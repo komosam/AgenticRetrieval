{
 "cells": [
  {
   "cell_type": "code",
   "execution_count": 1,
   "id": "63d928e5",
   "metadata": {},
   "outputs": [],
   "source": [
    "from dotenv import load_dotenv\n",
    "import os"
   ]
  },
  {
   "cell_type": "code",
   "execution_count": 2,
   "id": "bdeecf1f",
   "metadata": {},
   "outputs": [],
   "source": [
    "load_dotenv()\n",
    "api_key = os.getenv(\"OPENAI_API_KEY\")"
   ]
  },
  {
   "cell_type": "code",
   "execution_count": 4,
   "id": "57ba84c4",
   "metadata": {},
   "outputs": [],
   "source": [
    "from typing import Annotated\n",
    "\n",
    "from langchain_community.tools.tavily_search import TavilySearchResults\n",
    "from langchain_core.tools import tool\n",
    "#from langchain_experimental.utilities import PythonREPL\n",
    "from langchain_core.messages import HumanMessage\n",
    "from langchain_openai import ChatOpenAI\n",
    "\n",
    "from langgraph.prebuilt import create_react_agent\n",
    "from langgraph.graph import MessagesState\n",
    "\n",
    "from langgraph.graph import StateGraph, START, END\n",
    "from pydantic import BaseModel, Field\n",
    "from langchain_core.prompts import ChatPromptTemplate\n",
    "\n",
    "from typing_extensions import TypedDict\n",
    "\n",
    "from langgraph.graph.message import AnyMessage, add_messages\n",
    "from langchain_core.messages.ai import AIMessage"
   ]
  },
  {
   "cell_type": "code",
   "execution_count": 5,
   "id": "ce616bce",
   "metadata": {},
   "outputs": [],
   "source": [
    "class State(MessagesState):\n",
    "    messages: Annotated[list[AnyMessage], add_messages]"
   ]
  },
  {
   "cell_type": "code",
   "execution_count": 6,
   "id": "11360843",
   "metadata": {},
   "outputs": [],
   "source": [
    "@tool\n",
    "def resume_screener(resume:str,skill:str):\n",
    "    \"\"\"This tool checks andd validates if the resume and the skills passed are in cync or not and returns its response \"\"\"\n",
    "    \n",
    "    llm = ChatOpenAI()\n",
    "    system = \"\"\"You are an expert in screenring the resume and selecting OR rejecting the resume based on the skill we require.\n",
    "                use your atmost intelligence and decide if you want to select the resume OR reject the resume by going through the resume clearly and comparing it will skills we want\n",
    "                Here are some sample keywords you can check in resume.\n",
    "                Data Engineer, Big Data, AWS, Azure, SQL Python -- maps to Data Engineer skill\n",
    "                Data Sceince, ML , Deep Learning, DL, sklearn -- maps to Data Sceince skill\n",
    "                \"\"\"\n",
    "    human_str =  \"\"\"\n",
    "                 Here is the resume \n",
    "                 ---------\n",
    "                 {resume}\n",
    "\n",
    "                 Please check if it maps to the follwoing skills : {skill}\n",
    "                 \"\"\"\n",
    "    route_prompt = ChatPromptTemplate.from_messages(\n",
    "        [\n",
    "            (\"system\", system),\n",
    "            (\"human\", human_str),\n",
    "        ]\n",
    "    )\n",
    "\n",
    "    question_router = route_prompt | llm #structured_llm_router\n",
    "    response = question_router.invoke({\"resume\":resume,\"skill\":skill})\n",
    "    return {\"messages\": [response]}"
   ]
  },
  {
   "cell_type": "code",
   "execution_count": null,
   "id": "06b3494e",
   "metadata": {},
   "outputs": [],
   "source": [
    "@tool\n",
    "def hr_filter(resume:str):\n",
    "    \"\"\"This tool checks and validates Abilities, Competencies, Strengths, Capabilities, and Expertise in Resume \"\"\"\n",
    "\n",
    "    llm = ChatOpenAI()\n",
    "    system = \"\"\"You are a HR specialist tasked with reviewing resumes to evaluate the candidate's suitability for HR-related roles, Please dont be very tough guy, evaluate easy and if resume satisfies the basic HR skills also, you should pass it.\n",
    "                Focus solely on assessing the candidate's abilities, competencies, strengths, capabilities, and expertise in core HR functions,\n",
    "                such as talent management, recruitment, employee relations, performance evaluation, training and development, and compliance\n",
    "                with HR policies. Avoid analyzing technical or non-HR skills and respond with a crisp message if you are satisfied with the candidate on the skills you have evaluated.\n",
    "                \"\"\"\n",
    "    human_str =  \"\"\"\n",
    "                 Here is the resume \n",
    "                 ---------\n",
    "                 {resume}\n",
    "                 \"\"\"\n",
    "    route_prompt = ChatPromptTemplate.from_messages(\n",
    "        [\n",
    "            (\"system\", system),\n",
    "            (\"human\", human_str),\n",
    "        ]\n",
    "    )\n",
    "\n",
    "    question_router = route_prompt | llm\n",
    "    response = question_router.invoke({\"resume\":resume})\n",
    "    return {\"messages\": [response]}"
   ]
  },
  {
   "cell_type": "code",
   "execution_count": null,
   "id": "07ae6b48",
   "metadata": {},
   "outputs": [],
   "source": [
    "@tool\n",
    "def resume_summarize():\n",
    "    \"\"\"Summarizes the thoughts from previous agents.\"\"\"\n",
    "    # if \"messages\" not in state or not state[\"messages\"]:\n",
    "    #     raise ValueError(\"State must include a 'messages' key with content.\")\n",
    "\n",
    "    llm = ChatOpenAI()\n",
    "    system = \"\"\"\n",
    "        You are a resume summarizer. Summarize feedback from the previous agents.\n",
    "        Provide one of these decisions: human_review_needed, rejected, selected.\n",
    "    \"\"\"\n",
    "\n",
    "    # Gather all messages from previous agents\n",
    "    agent_messages = \"\\n\\n\".join(\n",
    "        msg.content for msg in state['messages']\n",
    "    )\n",
    "\n",
    "    human_str = \"\"\"\n",
    "    Summarize the feedback from the agents based on the messages below:\n",
    "    ------\n",
    "    {agent_messages}\n",
    "    ------\n",
    "    Provide one of these decisions: human_review_needed, rejected, selected.\n",
    "    \"\"\"\n",
    "\n",
    "    route_prompt = ChatPromptTemplate.from_messages(\n",
    "        [\n",
    "            (\"system\", system),\n",
    "            (\"human\", human_str),\n",
    "        ]\n",
    "    )\n",
    "\n",
    "    question_router = route_prompt | llm\n",
    "    response = question_router.invoke({\"agent_messages\": agent_messages})\n",
    "\n",
    "    # Append the AI message to state\n",
    "    state[\"messages\"].append(AIMessage(content=response.content))\n",
    "\n",
    "    return state"
   ]
  },
  {
   "cell_type": "code",
   "execution_count": null,
   "id": "e79f9f8f",
   "metadata": {},
   "outputs": [],
   "source": [
    "def make_system_prompt(suffix: str) -> str:\n",
    "    return (\n",
    "        \"You are a helpful AI assistant, collaborating with other assistants.\"\n",
    "        \" Use the provided tools to progress towards answering the question.\"\n",
    "        \" If you are unable to fully answer, that's OK, another assistant with different tools \"\n",
    "        \" will help where you left off. Execute what you can to make progress.\"\n",
    "        \" If you or any of the other assistants have the final answer or deliverable,\"\n",
    "        \" prefix your response with FINAL ANSWER so the team knows to stop.\"\n",
    "        f\"\\n{suffix}\"\n",
    "    )"
   ]
  },
  {
   "cell_type": "code",
   "execution_count": null,
   "id": "067b5ebe",
   "metadata": {},
   "outputs": [],
   "source": [
    "llm = ChatOpenAI()"
   ]
  },
  {
   "cell_type": "code",
   "execution_count": null,
   "id": "0b3ddcf0",
   "metadata": {},
   "outputs": [],
   "source": [
    "resume_screener_agent = create_react_agent(\n",
    "    llm,\n",
    "    tools = [resume_screener],\n",
    "    state_modifier=make_system_prompt(\n",
    "        \"You can filter resumes based on the skill and return if we can select OR reject the resume. select it if resume suits the skillset, reject if resume doesn't suit the skillset\" \n",
    "    )\n",
    ")"
   ]
  },
  {
   "cell_type": "code",
   "execution_count": null,
   "id": "6a5c317d",
   "metadata": {},
   "outputs": [],
   "source": [
    "def resume_screener_node(state: State) -> State:\n",
    "    result = resume_screener_agent.invoke(state)\n",
    "    state[\"messages\"].extend(result[\"messages\"])  # Append summarizer messages\n",
    "    return state"
   ]
  },
  {
   "cell_type": "code",
   "execution_count": null,
   "id": "422ff066",
   "metadata": {},
   "outputs": [],
   "source": [
    "hr_filter_agent = create_react_agent(\n",
    "    llm,\n",
    "    [hr_filter],\n",
    "    state_modifier=make_system_prompt(\n",
    "        \"you work with resume screener agent and after only if resume screener agent select , then you will validate the HR skills in the resume\"\n",
    "    ),\n",
    ")"
   ]
  },
  {
   "cell_type": "code",
   "execution_count": null,
   "id": "918af084",
   "metadata": {},
   "outputs": [],
   "source": [
    "def hr_node(state: State) -> State:\n",
    "    result = hr_filter_agent.invoke(state)\n",
    "    state[\"messages\"].extend(result[\"messages\"])  # Append summarizer messages\n",
    "    return state"
   ]
  },
  {
   "cell_type": "code",
   "execution_count": null,
   "id": "8a5649d4",
   "metadata": {},
   "outputs": [],
   "source": [
    "resume_summarize_agent = create_react_agent(\n",
    "    llm,\n",
    "    [resume_summarize],\n",
    "    state_modifier=make_system_prompt(\n",
    "        \"you work with resume screener agent, hr agent and just summarises what those 2 agents feel about the resume \"\n",
    "    ),\n",
    ")"
   ]
  },
  {
   "cell_type": "code",
   "execution_count": null,
   "id": "4915db75",
   "metadata": {},
   "outputs": [],
   "source": [
    "def resume_summarize_node(state: State) -> State:\n",
    "    result = resume_summarize_agent.invoke(state)\n",
    "    state[\"messages\"].extend(result[\"messages\"]) \n",
    "    return state"
   ]
  }
 ],
 "metadata": {
  "kernelspec": {
   "display_name": "Python 3",
   "language": "python",
   "name": "python3"
  },
  "language_info": {
   "codemirror_mode": {
    "name": "ipython",
    "version": 3
   },
   "file_extension": ".py",
   "mimetype": "text/x-python",
   "name": "python",
   "nbconvert_exporter": "python",
   "pygments_lexer": "ipython3",
   "version": "3.9.6"
  }
 },
 "nbformat": 4,
 "nbformat_minor": 5
}
