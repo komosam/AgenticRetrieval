{
 "cells": [
  {
   "cell_type": "code",
   "execution_count": 11,
   "id": "57ba84c4",
   "metadata": {},
   "outputs": [],
   "source": [
    "\n",
    "from dotenv import load_dotenv\n",
    "import os\n",
    "from typing import Annotated\n",
    "\n",
    "from langchain_community.tools.tavily_search import TavilySearchResults\n",
    "from langchain_core.tools import tool\n",
    "#from langchain_experimental.utilities import PythonREPL\n",
    "from langchain_core.messages import HumanMessage\n",
    "from langchain_openai import ChatOpenAI\n",
    "\n",
    "from langgraph.prebuilt import create_react_agent\n",
    "from langgraph.graph import MessagesState\n",
    "\n",
    "from langgraph.graph import StateGraph, START, END\n",
    "from pydantic import BaseModel, Field\n",
    "from langchain_core.prompts import ChatPromptTemplate\n",
    "\n",
    "from typing_extensions import TypedDict\n",
    "\n",
    "from langgraph.graph.message import AnyMessage, add_messages\n",
    "from langchain_core.messages.ai import AIMessage"
   ]
  },
  {
   "cell_type": "code",
   "execution_count": 3,
   "id": "ce616bce",
   "metadata": {},
   "outputs": [],
   "source": [
    "class State(MessagesState):\n",
    "    messages: Annotated[list[AnyMessage], add_messages]"
   ]
  },
  {
   "cell_type": "code",
   "execution_count": 4,
   "id": "11360843",
   "metadata": {},
   "outputs": [],
   "source": [
    "@tool\n",
    "def resume_screener(resume:str,skill:str):\n",
    "    \"\"\"This tool checks andd validates if the resume and the skills passed are in cync or not and returns its response \"\"\"\n",
    "    \n",
    "    llm = ChatOpenAI()\n",
    "    system = \"\"\"You are an expert in screenring the resume and selecting OR rejecting the resume based on the skill we require.\n",
    "                use your atmost intelligence and decide if you want to select the resume OR reject the resume by going through the resume clearly and comparing it will skills we want\n",
    "                Here are some sample keywords you can check in resume.\n",
    "                Data Engineer, Big Data, AWS, Azure, SQL Python -- maps to Data Engineer skill\n",
    "                Data Sceince, ML , Deep Learning, DL, sklearn -- maps to Data Sceince skill\n",
    "                \"\"\"\n",
    "    human_str =  \"\"\"\n",
    "                 Here is the resume \n",
    "                 ---------\n",
    "                 {resume}\n",
    "\n",
    "                 Please check if it maps to the follwoing skills : {skill}\n",
    "                 \"\"\"\n",
    "    route_prompt = ChatPromptTemplate.from_messages(\n",
    "        [\n",
    "            (\"system\", system),\n",
    "            (\"human\", human_str),\n",
    "        ]\n",
    "    )\n",
    "\n",
    "    question_router = route_prompt | llm #structured_llm_router\n",
    "    response = question_router.invoke({\"resume\":resume,\"skill\":skill})\n",
    "    return {\"messages\": [response]}"
   ]
  },
  {
   "cell_type": "code",
   "execution_count": 5,
   "id": "06b3494e",
   "metadata": {},
   "outputs": [],
   "source": [
    "@tool\n",
    "def hr_filter(resume:str):\n",
    "    \"\"\"This tool checks and validates Abilities, Competencies, Strengths, Capabilities, and Expertise in Resume \"\"\"\n",
    "\n",
    "    llm = ChatOpenAI()\n",
    "    system = \"\"\"You are a HR specialist tasked with reviewing resumes to evaluate the candidate's suitability for HR-related roles, Please dont be very tough guy, evaluate easy and if resume satisfies the basic HR skills also, you should pass it.\n",
    "                Focus solely on assessing the candidate's abilities, competencies, strengths, capabilities, and expertise in core HR functions,\n",
    "                such as talent management, recruitment, employee relations, performance evaluation, training and development, and compliance\n",
    "                with HR policies. Avoid analyzing technical or non-HR skills and respond with a crisp message if you are satisfied with the candidate on the skills you have evaluated.\n",
    "                \"\"\"\n",
    "    human_str =  \"\"\"\n",
    "                 Here is the resume \n",
    "                 ---------\n",
    "                 {resume}\n",
    "                 \"\"\"\n",
    "    route_prompt = ChatPromptTemplate.from_messages(\n",
    "        [\n",
    "            (\"system\", system),\n",
    "            (\"human\", human_str),\n",
    "        ]\n",
    "    )\n",
    "\n",
    "    question_router = route_prompt | llm\n",
    "    response = question_router.invoke({\"resume\":resume})\n",
    "    return {\"messages\": [response]}"
   ]
  },
  {
   "cell_type": "code",
   "execution_count": 6,
   "id": "07ae6b48",
   "metadata": {},
   "outputs": [],
   "source": [
    "@tool\n",
    "def resume_summarize():\n",
    "    \"\"\"Summarizes the thoughts from previous agents.\"\"\"\n",
    "    # if \"messages\" not in state or not state[\"messages\"]:\n",
    "    #     raise ValueError(\"State must include a 'messages' key with content.\")\n",
    "\n",
    "    llm = ChatOpenAI()\n",
    "    system = \"\"\"\n",
    "        You are a resume summarizer. Summarize feedback from the previous agents.\n",
    "        Provide one of these decisions: human_review_needed, rejected, selected.\n",
    "    \"\"\"\n",
    "\n",
    "    # Gather all messages from previous agents\n",
    "    agent_messages = \"\\n\\n\".join(\n",
    "        msg.content for msg in state['messages']\n",
    "    )\n",
    "\n",
    "    human_str = \"\"\"\n",
    "    Summarize the feedback from the agents based on the messages below:\n",
    "    ------\n",
    "    {agent_messages}\n",
    "    ------\n",
    "    Provide one of these decisions: human_review_needed, rejected, selected.\n",
    "    \"\"\"\n",
    "\n",
    "    route_prompt = ChatPromptTemplate.from_messages(\n",
    "        [\n",
    "            (\"system\", system),\n",
    "            (\"human\", human_str),\n",
    "        ]\n",
    "    )\n",
    "\n",
    "    question_router = route_prompt | llm\n",
    "    response = question_router.invoke({\"agent_messages\": agent_messages})\n",
    "\n",
    "    # Append the AI message to state\n",
    "    state[\"messages\"].append(AIMessage(content=response.content))\n",
    "\n",
    "    return state"
   ]
  },
  {
   "cell_type": "code",
   "execution_count": 7,
   "id": "e79f9f8f",
   "metadata": {},
   "outputs": [],
   "source": [
    "def make_system_prompt(suffix: str) -> str:\n",
    "    return (\n",
    "        \"You are a helpful AI assistant, collaborating with other assistants.\"\n",
    "        \" Use the provided tools to progress towards answering the question.\"\n",
    "        \" If you are unable to fully answer, that's OK, another assistant with different tools \"\n",
    "        \" will help where you left off. Execute what you can to make progress.\"\n",
    "        \" If you or any of the other assistants have the final answer or deliverable,\"\n",
    "        \" prefix your response with FINAL ANSWER so the team knows to stop.\"\n",
    "        f\"\\n{suffix}\"\n",
    "    )"
   ]
  },
  {
   "cell_type": "code",
   "execution_count": 14,
   "id": "067b5ebe",
   "metadata": {},
   "outputs": [],
   "source": [
    "load_dotenv()\n",
    "OPENAI_API_KEY = os.getenv(\"OPENAI_API_KEY\")\n",
    "\n",
    "llm = ChatOpenAI()"
   ]
  },
  {
   "cell_type": "code",
   "execution_count": 16,
   "id": "0b3ddcf0",
   "metadata": {},
   "outputs": [],
   "source": [
    "resume_screener_agent = create_react_agent(\n",
    "    llm,\n",
    "    tools=[resume_screener],\n",
    "    prompt=make_system_prompt(\n",
    "        \"You can filter resumes based on the skill and return whether we should select or reject the resume. \"\n",
    "        \"Select it if the resume suits the skillset; reject it if it does not.\"\n",
    "    )\n",
    ")\n"
   ]
  },
  {
   "cell_type": "code",
   "execution_count": 17,
   "id": "6a5c317d",
   "metadata": {},
   "outputs": [],
   "source": [
    "def resume_screener_node(state: State) -> State:\n",
    "    result = resume_screener_agent.invoke(state)\n",
    "    state[\"messages\"].extend(result[\"messages\"])  # Append summarizer messages\n",
    "    return state"
   ]
  },
  {
   "cell_type": "code",
   "execution_count": 19,
   "id": "422ff066",
   "metadata": {},
   "outputs": [],
   "source": [
    "hr_filter_agent = create_react_agent(\n",
    "    llm,\n",
    "    [hr_filter],\n",
    "    prompt=make_system_prompt(\n",
    "        \"you work with resume screener agent and after only if resume screener agent select , then you will validate the HR skills in the resume\"\n",
    "    ),\n",
    ")"
   ]
  },
  {
   "cell_type": "code",
   "execution_count": 20,
   "id": "918af084",
   "metadata": {},
   "outputs": [],
   "source": [
    "def hr_node(state: State) -> State:\n",
    "    result = hr_filter_agent.invoke(state)\n",
    "    state[\"messages\"].extend(result[\"messages\"])  # Append summarizer messages\n",
    "    return state"
   ]
  },
  {
   "cell_type": "code",
   "execution_count": 21,
   "id": "8a5649d4",
   "metadata": {},
   "outputs": [],
   "source": [
    "resume_summarize_agent = create_react_agent(\n",
    "    llm,\n",
    "    [resume_summarize],\n",
    "    prompt=make_system_prompt(\n",
    "        \"you work with resume screener agent, hr agent and just summarises what those 2 agents feel about the resume \"\n",
    "    ),\n",
    ")"
   ]
  },
  {
   "cell_type": "code",
   "execution_count": 22,
   "id": "4915db75",
   "metadata": {},
   "outputs": [],
   "source": [
    "def resume_summarize_node(state: State) -> State:\n",
    "    result = resume_summarize_agent.invoke(state)\n",
    "    state[\"messages\"].extend(result[\"messages\"]) \n",
    "    return state"
   ]
  },
  {
   "cell_type": "code",
   "execution_count": 23,
   "id": "299c380d",
   "metadata": {},
   "outputs": [],
   "source": [
    "def router(state: State):\n",
    "    messages = state[\"messages\"]\n",
    "    last_message = messages[-1]\n",
    "    if \"FINAL ANSWER\" in last_message.content:\n",
    "        return END\n",
    "    return \"continue\""
   ]
  },
  {
   "cell_type": "code",
   "execution_count": 24,
   "id": "ac92b150",
   "metadata": {},
   "outputs": [],
   "source": [
    "workflow = StateGraph(State)"
   ]
  },
  {
   "cell_type": "code",
   "execution_count": 28,
   "id": "a51f28b9",
   "metadata": {},
   "outputs": [],
   "source": [
    "workflow.add_edge(START, \"resume_screener_node\")\n",
    "\n",
    "workflow.add_edge(\"resume_screener_node\",\"hr_node\")\n",
    "\n",
    "workflow.add_edge(\"hr_node\",\"resume_summarize\")\n",
    "\n",
    "workflow.add_edge(\"resume_summarize\",END)\n",
    "\n",
    "graph = workflow.compile()"
   ]
  },
  {
   "cell_type": "code",
   "execution_count": 29,
   "id": "0ce1fbed",
   "metadata": {},
   "outputs": [
    {
     "data": {
      "image/png": "[encoded data removed]",
      "text/plain": [
       "<IPython.core.display.Image object>"
      ]
     },
     "metadata": {},
     "output_type": "display_data"
    }
   ],
   "source": [
    "from IPython.display import Image, display\n",
    "\n",
    "try:\n",
    "    display(Image(graph.get_graph().draw_mermaid_png()))\n",
    "except Exception:\n",
    "    # This requires some extra dependencies and is optional\n",
    "    print(\"Mermaid graph rendering is not available. Please install the required dependencies to visualize the graph.\")\n",
    "    pass"
   ]
  },
  {
   "cell_type": "code",
   "execution_count": 30,
   "id": "88db1856",
   "metadata": {},
   "outputs": [],
   "source": [
    "resume1 = \"\"\"\n",
    "**John Snow **  \n",
    "📧 johnsnow.com | 📱 +1-123-235-4569 | 🌐 LinkedIn: linkedin.com/in/john-snow | 📍 CA, US  \n",
    "\n",
    "---\n",
    "\n",
    "### **Professional Summary**  \n",
    "A results-driven **Data Engineer** with 5+ years of experience in designing, developing, and managing data pipelines and workflows in **Azure** and **AWS** environments. \n",
    "\n",
    "---\n",
    "\n",
    "### **Technical Skills**  \n",
    "**Cloud Platforms**: Azure (Data Factory, Synapse, Data Lake), AWS (Glue, Redshift, S3, EMR)  \n",
    "**Big Data**: Apache Spark, Hadoop, PySpark  \n",
    "**ETL Tools**: Azure Data Factory, AWS Glue  \n",
    "**Databases**: SQL, NoSQL, PostgreSQL, MongoDB  \n",
    "**Programming**: Python, Scala, SQL  \n",
    "**Other Tools**: Docker, Kubernetes, Terraform  \n",
    "\n",
    "---\n",
    "\n",
    "### **Specific Strengths**  \n",
    "- **Collaboration and Teamwork**: Proven ability to work with diverse teams across engineering, business, and HR units, ensuring projects align with organizational goals.  \n",
    "- **Effective Communication**: Adept at explaining technical concepts in simple terms to non-technical stakeholders and leadership.  \n",
    "\n",
    "---\n",
    "\n",
    "### **Professional Experience**  \n",
    "\n",
    "**Senior Data Engineer**  \n",
    "*XYZ Corporation, Bangalore, India*  \n",
    "*Jan 2021 – Present*  \n",
    "- Designed and implemented scalable **data pipelines** in **Azure Data Factory** and **AWS Glue** to process and analyze large datasets.  \n",
    "- Spearheaded data integration projects, integrating sources like IoT, CRM, and operational databases into **AWS Redshift** and **Azure Synapse Analytics**.  \n",
    "\n",
    "\n",
    "**Data Engineer**  \n",
    "*ABC Solutions, Hyderabad, India*  \n",
    "*July 2018 – Dec 2020*  \n",
    "- Developed automated ETL workflows in **AWS Lambda** and **Azure Functions** for seamless data ingestion.  \n",
    "- Maintained and monitored **Azure Data Lake** storage, ensuring high availability and security.   \n",
    "\"\"\"\n"
   ]
  },
  {
   "cell_type": "code",
   "execution_count": 32,
   "id": "f978c096",
   "metadata": {},
   "outputs": [],
   "source": [
    "config = {\n",
    "    \"configurable\": {\n",
    "        \"thread_id\": \"123456\"\n",
    "    }\n",
    "}\n",
    "\n",
    "\n",
    "events = graph.stream(\n",
    "    {\n",
    "        \"messages\": [\n",
    "            (\n",
    "                \"user\",\n",
    "                f\"{resume1} . Please validate if the resume suits the Data Engineering skillset.\",\n",
    "            )\n",
    "        ],\n",
    "    },\n",
    "    # Maximum number of steps to take in the graph\n",
    "    {\"recursion_limit\": 5}\n",
    "\n",
    ")"
   ]
  },
  {
   "cell_type": "code",
   "execution_count": 34,
   "id": "164c0960",
   "metadata": {},
   "outputs": [],
   "source": [
    "for s in events:\n",
    "    print(s)\n",
    "    print(\"----\")\n",
    "    # print(type(s))\n",
    "    if \"resume_summarize\" in s.keys():\n",
    "        print(\"We have -->>\",s['resume_summarize']['messages'][-1].content ,\" resume !!!!!!\")"
   ]
  },
  {
   "cell_type": "code",
   "execution_count": null,
   "id": "1dc6ae53",
   "metadata": {},
   "outputs": [],
   "source": []
  }
 ],
 "metadata": {
  "kernelspec": {
   "display_name": "Python 3",
   "language": "python",
   "name": "python3"
  },
  "language_info": {
   "codemirror_mode": {
    "name": "ipython",
    "version": 3
   },
   "file_extension": ".py",
   "mimetype": "text/x-python",
   "name": "python",
   "nbconvert_exporter": "python",
   "pygments_lexer": "ipython3",
   "version": "3.9.6"
  }
 },
 "nbformat": 4,
 "nbformat_minor": 5
}
